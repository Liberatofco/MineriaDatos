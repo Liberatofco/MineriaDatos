{
  "nbformat": 4,
  "nbformat_minor": 0,
  "metadata": {
    "colab": {
      "provenance": [],
      "authorship_tag": "ABX9TyOOoBrWs+tNnUqswL8AlFRr",
      "include_colab_link": true
    },
    "kernelspec": {
      "name": "python3",
      "display_name": "Python 3"
    },
    "language_info": {
      "name": "python"
    }
  },
  "cells": [
    {
      "cell_type": "markdown",
      "metadata": {
        "id": "view-in-github",
        "colab_type": "text"
      },
      "source": [
        "<a href=\"https://colab.research.google.com/github/Liberatofco/MineriaDatos/blob/main/Mineria_de_Datos.ipynb\" target=\"_parent\"><img src=\"https://colab.research.google.com/assets/colab-badge.svg\" alt=\"Open In Colab\"/></a>"
      ]
    },
    {
      "cell_type": "code",
      "execution_count": null,
      "metadata": {
        "colab": {
          "base_uri": "https://localhost:8080/"
        },
        "id": "XGasjkbwHhNn",
        "outputId": "cd820688-ddd0-451e-da5f-ad78ce9e5c51"
      },
      "outputs": [
        {
          "output_type": "stream",
          "name": "stdout",
          "text": [
            "Drive already mounted at /content/drive; to attempt to forcibly remount, call drive.mount(\"/content/drive\", force_remount=True).\n"
          ]
        }
      ],
      "source": [
        "  from google.colab import drive\n",
        "  drive.mount(\"/content/drive\")"
      ]
    },
    {
      "cell_type": "code",
      "source": [
        "import pandas as pd"
      ],
      "metadata": {
        "id": "lqXD-ctiHuPS"
      },
      "execution_count": null,
      "outputs": []
    },
    {
      "cell_type": "code",
      "source": [
        "capitulosop = pd.read_csv(\"/content/drive/MyDrive/Mineria de datos/Chapters.csv\", encoding='ISO-8859-1')\n",
        "capitulosop.head()"
      ],
      "metadata": {
        "colab": {
          "base_uri": "https://localhost:8080/",
          "height": 337
        },
        "id": "2WEicSHqIhmD",
        "outputId": "4961a818-5de1-41d3-e67f-6402a479483d"
      },
      "execution_count": null,
      "outputs": [
        {
          "output_type": "execute_result",
          "data": {
            "text/plain": [
              "   Chapter_Number  Volume                                      Name  \\\n",
              "0               1       1  Romance Dawn - The Dawn of the Adventure   \n",
              "1               2       1               That Guy, \"Straw Hat Luffy\"   \n",
              "2               3       1            Introducing Pirate Hunter Zoro   \n",
              "3               4       1          Marine Captain \"Axe-Hand Morgan\"   \n",
              "4               5       1          Pirate King and Master Swordsman   \n",
              "\n",
              "                 Romanized_title  \\\n",
              "0   Romansu Don - Boken no Yoake   \n",
              "1  Sono Otoko \"Mugiwara no Rufi\"   \n",
              "2    \"Kaizoku-gari no Zoro\" Tojo   \n",
              "3  Kaigun Taisa \"Onote no Mogan\"   \n",
              "4          Kaizoku-O to Daikengo   \n",
              "\n",
              "                                          Viz_title  Pages             Date  \\\n",
              "0                                      Romance Dawn   53.0    July 19, 1997   \n",
              "1                   They Call Him \"Straw Hat Luffy\"   23.0    July 28, 1997   \n",
              "2                         Enter Zolo: Pirate Hunter   21.0   August 4, 1997   \n",
              "3                          The Great Captain Morgan   19.0  August 11, 1997   \n",
              "4  The King of the Pirates and the Master Swordsman   19.0  August 25, 1997   \n",
              "\n",
              "         Episodes  \n",
              "0     1997 Issue   \n",
              "1     1997 Issue   \n",
              "2     1997 Issue   \n",
              "3  1997 Issue 37-  \n",
              "4     1997 Issue   "
            ],
            "text/html": [
              "\n",
              "  <div id=\"df-7aa9a8ea-b060-4ef3-90a9-2ddecbc44bd5\">\n",
              "    <div class=\"colab-df-container\">\n",
              "      <div>\n",
              "<style scoped>\n",
              "    .dataframe tbody tr th:only-of-type {\n",
              "        vertical-align: middle;\n",
              "    }\n",
              "\n",
              "    .dataframe tbody tr th {\n",
              "        vertical-align: top;\n",
              "    }\n",
              "\n",
              "    .dataframe thead th {\n",
              "        text-align: right;\n",
              "    }\n",
              "</style>\n",
              "<table border=\"1\" class=\"dataframe\">\n",
              "  <thead>\n",
              "    <tr style=\"text-align: right;\">\n",
              "      <th></th>\n",
              "      <th>Chapter_Number</th>\n",
              "      <th>Volume</th>\n",
              "      <th>Name</th>\n",
              "      <th>Romanized_title</th>\n",
              "      <th>Viz_title</th>\n",
              "      <th>Pages</th>\n",
              "      <th>Date</th>\n",
              "      <th>Episodes</th>\n",
              "    </tr>\n",
              "  </thead>\n",
              "  <tbody>\n",
              "    <tr>\n",
              "      <th>0</th>\n",
              "      <td>1</td>\n",
              "      <td>1</td>\n",
              "      <td>Romance Dawn - The Dawn of the Adventure</td>\n",
              "      <td>Romansu Don - Boken no Yoake</td>\n",
              "      <td>Romance Dawn</td>\n",
              "      <td>53.0</td>\n",
              "      <td>July 19, 1997</td>\n",
              "      <td>1997 Issue</td>\n",
              "    </tr>\n",
              "    <tr>\n",
              "      <th>1</th>\n",
              "      <td>2</td>\n",
              "      <td>1</td>\n",
              "      <td>That Guy, \"Straw Hat Luffy\"</td>\n",
              "      <td>Sono Otoko \"Mugiwara no Rufi\"</td>\n",
              "      <td>They Call Him \"Straw Hat Luffy\"</td>\n",
              "      <td>23.0</td>\n",
              "      <td>July 28, 1997</td>\n",
              "      <td>1997 Issue</td>\n",
              "    </tr>\n",
              "    <tr>\n",
              "      <th>2</th>\n",
              "      <td>3</td>\n",
              "      <td>1</td>\n",
              "      <td>Introducing Pirate Hunter Zoro</td>\n",
              "      <td>\"Kaizoku-gari no Zoro\" Tojo</td>\n",
              "      <td>Enter Zolo: Pirate Hunter</td>\n",
              "      <td>21.0</td>\n",
              "      <td>August 4, 1997</td>\n",
              "      <td>1997 Issue</td>\n",
              "    </tr>\n",
              "    <tr>\n",
              "      <th>3</th>\n",
              "      <td>4</td>\n",
              "      <td>1</td>\n",
              "      <td>Marine Captain \"Axe-Hand Morgan\"</td>\n",
              "      <td>Kaigun Taisa \"Onote no Mogan\"</td>\n",
              "      <td>The Great Captain Morgan</td>\n",
              "      <td>19.0</td>\n",
              "      <td>August 11, 1997</td>\n",
              "      <td>1997 Issue 37-</td>\n",
              "    </tr>\n",
              "    <tr>\n",
              "      <th>4</th>\n",
              "      <td>5</td>\n",
              "      <td>1</td>\n",
              "      <td>Pirate King and Master Swordsman</td>\n",
              "      <td>Kaizoku-O to Daikengo</td>\n",
              "      <td>The King of the Pirates and the Master Swordsman</td>\n",
              "      <td>19.0</td>\n",
              "      <td>August 25, 1997</td>\n",
              "      <td>1997 Issue</td>\n",
              "    </tr>\n",
              "  </tbody>\n",
              "</table>\n",
              "</div>\n",
              "      <button class=\"colab-df-convert\" onclick=\"convertToInteractive('df-7aa9a8ea-b060-4ef3-90a9-2ddecbc44bd5')\"\n",
              "              title=\"Convert this dataframe to an interactive table.\"\n",
              "              style=\"display:none;\">\n",
              "        \n",
              "  <svg xmlns=\"http://www.w3.org/2000/svg\" height=\"24px\"viewBox=\"0 0 24 24\"\n",
              "       width=\"24px\">\n",
              "    <path d=\"M0 0h24v24H0V0z\" fill=\"none\"/>\n",
              "    <path d=\"M18.56 5.44l.94 2.06.94-2.06 2.06-.94-2.06-.94-.94-2.06-.94 2.06-2.06.94zm-11 1L8.5 8.5l.94-2.06 2.06-.94-2.06-.94L8.5 2.5l-.94 2.06-2.06.94zm10 10l.94 2.06.94-2.06 2.06-.94-2.06-.94-.94-2.06-.94 2.06-2.06.94z\"/><path d=\"M17.41 7.96l-1.37-1.37c-.4-.4-.92-.59-1.43-.59-.52 0-1.04.2-1.43.59L10.3 9.45l-7.72 7.72c-.78.78-.78 2.05 0 2.83L4 21.41c.39.39.9.59 1.41.59.51 0 1.02-.2 1.41-.59l7.78-7.78 2.81-2.81c.8-.78.8-2.07 0-2.86zM5.41 20L4 18.59l7.72-7.72 1.47 1.35L5.41 20z\"/>\n",
              "  </svg>\n",
              "      </button>\n",
              "      \n",
              "  <style>\n",
              "    .colab-df-container {\n",
              "      display:flex;\n",
              "      flex-wrap:wrap;\n",
              "      gap: 12px;\n",
              "    }\n",
              "\n",
              "    .colab-df-convert {\n",
              "      background-color: #E8F0FE;\n",
              "      border: none;\n",
              "      border-radius: 50%;\n",
              "      cursor: pointer;\n",
              "      display: none;\n",
              "      fill: #1967D2;\n",
              "      height: 32px;\n",
              "      padding: 0 0 0 0;\n",
              "      width: 32px;\n",
              "    }\n",
              "\n",
              "    .colab-df-convert:hover {\n",
              "      background-color: #E2EBFA;\n",
              "      box-shadow: 0px 1px 2px rgba(60, 64, 67, 0.3), 0px 1px 3px 1px rgba(60, 64, 67, 0.15);\n",
              "      fill: #174EA6;\n",
              "    }\n",
              "\n",
              "    [theme=dark] .colab-df-convert {\n",
              "      background-color: #3B4455;\n",
              "      fill: #D2E3FC;\n",
              "    }\n",
              "\n",
              "    [theme=dark] .colab-df-convert:hover {\n",
              "      background-color: #434B5C;\n",
              "      box-shadow: 0px 1px 3px 1px rgba(0, 0, 0, 0.15);\n",
              "      filter: drop-shadow(0px 1px 2px rgba(0, 0, 0, 0.3));\n",
              "      fill: #FFFFFF;\n",
              "    }\n",
              "  </style>\n",
              "\n",
              "      <script>\n",
              "        const buttonEl =\n",
              "          document.querySelector('#df-7aa9a8ea-b060-4ef3-90a9-2ddecbc44bd5 button.colab-df-convert');\n",
              "        buttonEl.style.display =\n",
              "          google.colab.kernel.accessAllowed ? 'block' : 'none';\n",
              "\n",
              "        async function convertToInteractive(key) {\n",
              "          const element = document.querySelector('#df-7aa9a8ea-b060-4ef3-90a9-2ddecbc44bd5');\n",
              "          const dataTable =\n",
              "            await google.colab.kernel.invokeFunction('convertToInteractive',\n",
              "                                                     [key], {});\n",
              "          if (!dataTable) return;\n",
              "\n",
              "          const docLinkHtml = 'Like what you see? Visit the ' +\n",
              "            '<a target=\"_blank\" href=https://colab.research.google.com/notebooks/data_table.ipynb>data table notebook</a>'\n",
              "            + ' to learn more about interactive tables.';\n",
              "          element.innerHTML = '';\n",
              "          dataTable['output_type'] = 'display_data';\n",
              "          await google.colab.output.renderOutput(dataTable, element);\n",
              "          const docLink = document.createElement('div');\n",
              "          docLink.innerHTML = docLinkHtml;\n",
              "          element.appendChild(docLink);\n",
              "        }\n",
              "      </script>\n",
              "    </div>\n",
              "  </div>\n",
              "  "
            ]
          },
          "metadata": {},
          "execution_count": 10
        }
      ]
    }
  ]
}